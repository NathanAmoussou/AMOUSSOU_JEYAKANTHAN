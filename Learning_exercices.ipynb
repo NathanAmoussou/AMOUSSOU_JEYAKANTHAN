{
  "nbformat": 4,
  "nbformat_minor": 0,
  "metadata": {
    "colab": {
      "provenance": [],
      "include_colab_link": true
    },
    "kernelspec": {
      "name": "python3",
      "display_name": "Python 3"
    },
    "language_info": {
      "name": "python"
    }
  },
  "cells": [
    {
      "cell_type": "markdown",
      "metadata": {
        "id": "view-in-github",
        "colab_type": "text"
      },
      "source": [
        "<a href=\"https://colab.research.google.com/github/NathanAmoussou/AMOUSSOU_JEYAKANTHAN/blob/main/Learning_exercices.ipynb\" target=\"_parent\"><img src=\"https://colab.research.google.com/assets/colab-badge.svg\" alt=\"Open In Colab\"/></a>"
      ]
    },
    {
      "cell_type": "markdown",
      "source": [
        "# Logistic regression"
      ],
      "metadata": {
        "id": "wCXS6PqQZN9t"
      }
    },
    {
      "cell_type": "markdown",
      "source": [
        "## Dataset\n",
        " We consider a simple training dataset where each instance $s$ has two attributes  $(x_1^s, x_2^s)$ and a binary label $label^s\\in\\{0,1\\}$. There are 50 instances in this training dataset.\n",
        " $X$ is a matrix of size $50\\times2$, $label$ is the vector of labels, of size $50$."
      ],
      "metadata": {
        "id": "_RsYsV46ZdAo"
      }
    },
    {
      "cell_type": "code",
      "source": [
        "import numpy as np\n",
        "import matplotlib.pyplot as plt\n",
        "\n",
        "def generate_logistic_data ():\n",
        "    np.random.seed(0)\n",
        "    x1 =  np.random.rand(50)\n",
        "    x2 =  np.random.rand(50)\n",
        "    label = np.array([ 1 if (-1+3*s1<= s2) else 0 for s1, s2 in zip(x1, x2)])\n",
        "\n",
        "    return np.c_[x1, x2], label\n",
        "X, label = generate_logistic_data()\n",
        "\n",
        "def plot_logistic_data(x1, x2, lable):\n",
        "    for s1, s2, l in zip(x1, x2, label):\n",
        "        if l == 1:\n",
        "            plt.plot(s1, s2, 'o', c='green')\n",
        "        else:\n",
        "            plt.plot(s1, s2, 'x', c='red')\n",
        "    plt.ylim([-0.2,1.2])\n",
        "    plt.xlabel(\"x1\")\n",
        "    plt.ylabel(\"x2\")\n",
        "plot_logistic_data(X[:,0], X[:,1], label)"
      ],
      "metadata": {
        "id": "av7Xf05hZPEv"
      },
      "execution_count": null,
      "outputs": []
    },
    {
      "cell_type": "markdown",
      "source": [
        "![log1.png](data:image/png;base64,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)"
      ],
      "metadata": {
        "id": "Zij5v2XHaFHx"
      }
    },
    {
      "cell_type": "markdown",
      "source": [
        "### In the last course, we have coded the prediction function of logistic regression presented above.\n",
        "\n",
        "### Ex 1: Remind yourself the following prediction function returns what values?"
      ],
      "metadata": {
        "id": "dcLbtvaxbXUa"
      }
    },
    {
      "cell_type": "code",
      "source": [
        "def prediction(c, X):\n",
        "    y = c[0]+X@c[1:]\n",
        "    p = 1/(1+np.exp(-y))\n",
        "    cat = (p>0.5).astype(int)\n",
        "    return p, cat"
      ],
      "metadata": {
        "id": "rSwJsnSjZ8pO"
      },
      "execution_count": null,
      "outputs": []
    },
    {
      "cell_type": "markdown",
      "source": [
        "### Ex 2:\n",
        "Define a function \"log_loss\" to calculate the loss of logistic regression, given paramters $c\\in R^{n+1}$ and the dataset $X\\in R^{m\\times n}$ with labels $label\\in \\{0,1\\}^{m}$.\n",
        "\n",
        "Remarque: the formule of log-loss function\n",
        "\n",
        "$$\\sum_{(x^s, y^s)\\in S} y^s\\times[-log(p^s)] + (1-y^s)\\times[-log(1-p^s)]$$"
      ],
      "metadata": {
        "id": "tcrI9Tfrbu1l"
      }
    },
    {
      "cell_type": "code",
      "source": [
        "def log_loss(c, X, label):\n",
        "    pass"
      ],
      "metadata": {
        "id": "1KW0K47rbt5O"
      },
      "execution_count": null,
      "outputs": []
    },
    {
      "cell_type": "markdown",
      "source": [
        "The function  *gradient* below returns the gradient of a model with parameters $c$ in logistic regression. The returned gradient is of size $n$"
      ],
      "metadata": {
        "id": "CkJyR8bxc-n5"
      }
    },
    {
      "cell_type": "code",
      "source": [
        "def gradient(c, X, label):\n",
        "    p, _ = prediction(c, X)\n",
        "    gc0 = -np.sum(label-p)\n",
        "    gc = -(label-p)@X\n",
        "    return np.insert(gc,0, gc0)"
      ],
      "metadata": {
        "id": "LBbBvf8Pc4Ee"
      },
      "execution_count": null,
      "outputs": []
    },
    {
      "cell_type": "code",
      "source": [
        "import pylab as pl\n",
        "from IPython import display\n",
        "import time\n",
        "def afficher_model(c, X):\n",
        "    line = -c[0]/c[2] - c[1]/c[2]*X[:,0]\n",
        "    plt.plot(X[:,0], line, '--')\n",
        "    display.clear_output(wait=True)\n",
        "    display.display(pl.gcf())\n",
        "    time.sleep(2.0)"
      ],
      "metadata": {
        "id": "ozgcWfiPdwUV"
      },
      "execution_count": null,
      "outputs": []
    },
    {
      "cell_type": "markdown",
      "source": [
        "### Ex 3:\n",
        "Finalize the following code for training logistic regression with gradient descent\n"
      ],
      "metadata": {
        "id": "XIYpfEC6dWLh"
      }
    },
    {
      "cell_type": "code",
      "source": [
        "def RL_GD(X,label,T,eta,interval=50, affichage=True):\n",
        "    \"\"\"\n",
        "    T : le nombre d'itérations\n",
        "    eta : le taux d'apprentissage\n",
        "    \"\"\"\n",
        "    c = np.random.normal(0, 0.1, X.shape[1]+1)\n",
        "    if affichage: afficher_model(c,X)\n",
        "\n",
        "    m = X.shape[0]\n",
        "\n",
        "    # Code gradient descent algorithm\n",
        "    for t in range(1,T+1):\n",
        "        #Step 1: Calculate gradient\n",
        "        #To fill\n",
        "\n",
        "        # Step 2: update the parameters\n",
        "        # To fill\n",
        "\n",
        "        #Caculate the loss and the prediction\n",
        "        loss = log_loss(c, X, label)\n",
        "        _, pred = prediction(c, X)\n",
        "        acc = 0 # Remove 0 and To fill\n",
        "\n",
        "        #Afficher le performance du modèle (le perte et la précision de la prédiction)\n",
        "        if t%interval == 0:\n",
        "            print(f\"Iteration: {t}, Log Loss: {loss:.2f}, Accu: {acc:.2f}\")\n",
        "            if affichage: afficher_model(c,X)\n",
        "\n",
        "    return c"
      ],
      "metadata": {
        "id": "ueuHik_kdL8J"
      },
      "execution_count": null,
      "outputs": []
    },
    {
      "cell_type": "markdown",
      "source": [
        "### Test your code"
      ],
      "metadata": {
        "id": "P5AMHr4RfNfe"
      }
    },
    {
      "cell_type": "code",
      "source": [
        "plot_logistic_data(X[:,0], X[:,1], label)\n",
        "RL_GD(X, label, 1000, 0.05)"
      ],
      "metadata": {
        "id": "qd8RlZG6d0Z5"
      },
      "execution_count": null,
      "outputs": []
    },
    {
      "cell_type": "markdown",
      "source": [
        "### Ex 4: advanced exercices\n",
        "\n",
        "Try to code RMSProp algorithm"
      ],
      "metadata": {
        "id": "jrFLEJntf_6w"
      }
    },
    {
      "cell_type": "code",
      "source": [],
      "metadata": {
        "id": "1Bazebmnd3W9"
      },
      "execution_count": null,
      "outputs": []
    }
  ]
}